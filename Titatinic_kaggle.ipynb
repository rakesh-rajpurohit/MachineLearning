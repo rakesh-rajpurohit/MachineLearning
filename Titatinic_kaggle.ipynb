{
 "cells": [
  {
   "cell_type": "code",
   "execution_count": null,
   "metadata": {
    "_cell_guid": "b1076dfc-b9ad-4769-8c92-a6c4dae69d19",
    "_uuid": "8f2839f25d086af736a60e9eeb907d3b93b6e0e5",
    "collapsed": true
   },
   "outputs": [],
   "source": [
    "# This Python 3 environment comes with many helpful analytics libraries installed\n",
    "# It is defined by the kaggle/python docker image: https://github.com/kaggle/docker-python\n",
    "# For example, here's several helpful packages to load in \n",
    "\n",
    "import numpy as np # linear algebra\n",
    "import pandas as pd # data processing, CSV file I/O (e.g. pd.read_csv)\n",
    "import seaborn as sns # data Visualization \n",
    "import matplotlib.pyplot as plt\n",
    "\n",
    "# Input data files are available in the \"../input/\" directory.\n",
    "# For example, running this (by clicking run or pressing Shift+Enter) will list the files in the input directory\n",
    "\n",
    "import os\n",
    "print(os.listdir(\"../input\"))\n",
    "\n",
    "import warnings \n",
    "warnings.filterwarnings('ignore')\n",
    "# Any results you write to the current directory are saved as output."
   ]
  },
  {
   "cell_type": "code",
   "execution_count": null,
   "metadata": {
    "_cell_guid": "79c7e3d0-c299-4dcb-8224-4455121ee9b0",
    "_uuid": "d629ff2d2480ee46fbb7e2d37f6b5fab8052498a",
    "collapsed": true
   },
   "outputs": [],
   "source": [
    "# Combined Data set, train and test data sets\n",
    "train = pd.read_csv('../input/train.csv')\n",
    "test = pd.read_csv('../input/test.csv')\n",
    "datasets = [train, test]"
   ]
  },
  {
   "cell_type": "code",
   "execution_count": null,
   "metadata": {
    "_cell_guid": "36efa539-b435-41ca-8263-4a7e01080c39",
    "_uuid": "ba66453f0af8a16ca83ca95741290dd02609f668",
    "collapsed": true
   },
   "outputs": [],
   "source": [
    "train.head()"
   ]
  },
  {
   "cell_type": "code",
   "execution_count": null,
   "metadata": {
    "_cell_guid": "5c797df2-9892-4d5f-adc2-604f3c170d3d",
    "_uuid": "252f425c1d0aeac6cfd70465159616ab4e33cb48",
    "collapsed": true
   },
   "outputs": [],
   "source": [
    "test.head()"
   ]
  },
  {
   "cell_type": "code",
   "execution_count": null,
   "metadata": {
    "_cell_guid": "2d02df54-063f-4830-8d50-b4582b4741f3",
    "_uuid": "08a84780a7227e939d992dcdf84aff28da1e0b28",
    "collapsed": true
   },
   "outputs": [],
   "source": [
    "train.info()"
   ]
  },
  {
   "cell_type": "code",
   "execution_count": null,
   "metadata": {
    "_cell_guid": "46d0accb-cdc5-4406-8b2c-d0e24a2ca0b1",
    "_uuid": "77d0d0c412f613ab49bfb30d8b996a8083da8750",
    "collapsed": true
   },
   "outputs": [],
   "source": [
    "test.info()"
   ]
  },
  {
   "cell_type": "code",
   "execution_count": null,
   "metadata": {
    "_cell_guid": "36058bd1-9d54-4514-ab42-63ab0429ad4a",
    "_uuid": "9f1585da7575d7d166631e968ab035c1d58f057f",
    "collapsed": true
   },
   "outputs": [],
   "source": [
    "train.isnull().sum()"
   ]
  },
  {
   "cell_type": "code",
   "execution_count": null,
   "metadata": {
    "_cell_guid": "065fe5a9-5692-40b4-a3bc-56046cc922c0",
    "_uuid": "bf2e631226d23bb7324a3ec9b21968ce693e7d21",
    "collapsed": true
   },
   "outputs": [],
   "source": [
    "test.isnull().sum()"
   ]
  },
  {
   "cell_type": "code",
   "execution_count": null,
   "metadata": {
    "_cell_guid": "c5750917-e8d9-49cc-accc-4fa39c2996e7",
    "_uuid": "bb3a69240258e37e2fd2c166c081b3c9d62367dc",
    "collapsed": true
   },
   "outputs": [],
   "source": [
    "train.dtypes"
   ]
  },
  {
   "cell_type": "code",
   "execution_count": null,
   "metadata": {
    "_cell_guid": "7d73c6df-ad67-435d-bf31-7e9a76fdbd23",
    "_uuid": "dc32f7a9c179e7d2473d7742cec243313a110c78",
    "collapsed": true
   },
   "outputs": [],
   "source": [
    "train.describe()"
   ]
  },
  {
   "cell_type": "code",
   "execution_count": null,
   "metadata": {
    "_cell_guid": "274c2f51-df6b-464c-912b-899101e59d62",
    "_uuid": "b02624c33ccd6cb78fa0f5d7cf4015f4efaa1b7b",
    "collapsed": true
   },
   "outputs": [],
   "source": [
    "test.describe()"
   ]
  },
  {
   "cell_type": "code",
   "execution_count": null,
   "metadata": {
    "_cell_guid": "80d04731-b1bf-41c6-bdd8-acc1e1b0bc7f",
    "_uuid": "703c4dd29296162773876e597af2463c3d3feee9",
    "collapsed": true,
    "scrolled": true
   },
   "outputs": [],
   "source": [
    "plt.subplots(figsize=(12,9))\n",
    "cmap = sns.diverging_palette(250, 10, as_cmap=True)\n",
    "sns.heatmap(train.drop([\"PassengerId\"], axis = 1).corr(), annot = True, cmap = cmap)"
   ]
  },
  {
   "cell_type": "code",
   "execution_count": null,
   "metadata": {
    "_cell_guid": "ddc0f90f-e18c-46ac-a19a-eda75b6e10f5",
    "_uuid": "80761fc9c63f6c98befb149c457483ad60de4999",
    "collapsed": true
   },
   "outputs": [],
   "source": [
    "for dataset in datasets:\n",
    "    dataset.drop([\"Cabin\"], axis = 1, inplace = True)"
   ]
  },
  {
   "cell_type": "code",
   "execution_count": null,
   "metadata": {
    "_cell_guid": "1c595057-4cb1-4e11-9c7b-315552eb8cac",
    "_uuid": "376b5e0dd36f0a6f78ef8647bba5e3f620ffb2ae",
    "collapsed": true
   },
   "outputs": [],
   "source": [
    "train[\"Embarked\"].value_counts()"
   ]
  },
  {
   "cell_type": "code",
   "execution_count": null,
   "metadata": {
    "_cell_guid": "6b2e796c-27c2-46dc-8ca3-48ef338f336f",
    "_uuid": "8775bbbc668f825b5caede7a5cff1a17cd6e420c",
    "collapsed": true
   },
   "outputs": [],
   "source": [
    "for dataset in datasets:\n",
    "    dataset[\"Embarked\"].fillna(\"S\", inplace = True)"
   ]
  },
  {
   "cell_type": "code",
   "execution_count": null,
   "metadata": {
    "_cell_guid": "9f55d8f8-6093-403e-83a4-3b1312581e7b",
    "_uuid": "0b2b2d05ea9307e706da34f34d7e359ca9cc5aa1",
    "collapsed": true
   },
   "outputs": [],
   "source": [
    "train[[\"Sex\", \"Survived\"]].groupby([\"Sex\"], as_index = False).mean().sort_values(by=\"Survived\", ascending = False)"
   ]
  },
  {
   "cell_type": "code",
   "execution_count": null,
   "metadata": {
    "_cell_guid": "80335465-afa7-466e-bdd6-c84e97fbb2cf",
    "_uuid": "a5bdb0cc497ba45a61586518519a10ade299dac0",
    "collapsed": true
   },
   "outputs": [],
   "source": [
    "train[[\"Pclass\", \"Survived\"]].groupby([\"Pclass\"], as_index = False).mean().sort_values(by=\"Pclass\")"
   ]
  },
  {
   "cell_type": "code",
   "execution_count": null,
   "metadata": {
    "_cell_guid": "ea4c5210-9aed-4942-9b56-08b8b917913a",
    "_uuid": "bac39bc595666b109d7e43306d3ebbb1cb62cfc3",
    "collapsed": true
   },
   "outputs": [],
   "source": [
    "train[[\"Embarked\", \"Survived\"]].groupby([\"Embarked\"], as_index = False).mean().sort_values(by = \"Embarked\")"
   ]
  },
  {
   "cell_type": "code",
   "execution_count": null,
   "metadata": {
    "_cell_guid": "82c2458d-443f-4e1f-8d4b-25783eea22e4",
    "_uuid": "9f5d9057afe7f1de358fe3f6a66f57ebc6fec477",
    "collapsed": true
   },
   "outputs": [],
   "source": [
    "pd.crosstab([train[\"Embarked\"], train[\"Pclass\"]], [train[\"Sex\"], train[\"Survived\"]], margins = True).style.background_gradient(cmap = cmap)"
   ]
  },
  {
   "cell_type": "code",
   "execution_count": null,
   "metadata": {
    "_cell_guid": "3aef81e1-6cb6-42ae-bc1d-391ffa75c752",
    "_uuid": "feae54b496c735480826d13ed8e3381d0fad5c48",
    "collapsed": true
   },
   "outputs": [],
   "source": [
    "for dataset in datasets:\n",
    "    dataset[\"Embarked\"] = dataset[\"Embarked\"].map({\"C\": 0, \"Q\": 1, \"S\": 2})\n",
    "train.head()"
   ]
  },
  {
   "cell_type": "code",
   "execution_count": null,
   "metadata": {
    "_cell_guid": "b3446fbb-ffb4-4803-a958-ea4aa31bbe00",
    "_uuid": "39fd43ce08efcd67489108ba2e6ff2b3d85ef294",
    "collapsed": true
   },
   "outputs": [],
   "source": [
    "for dataset in datasets:\n",
    "    dataset[\"FamilySize\"] = dataset[\"SibSp\"]+dataset[\"Parch\"]+1\n",
    "train.head()"
   ]
  },
  {
   "cell_type": "code",
   "execution_count": null,
   "metadata": {
    "_cell_guid": "12a9693f-18e3-4df2-b4a3-1283e91f946a",
    "_uuid": "55fa7f51849021c77453187496a74383e8c98d69",
    "collapsed": true
   },
   "outputs": [],
   "source": [
    "pd.crosstab(train[\"FamilySize\"], train[\"Survived\"], margins = True).style.background_gradient(cmap = cmap)"
   ]
  },
  {
   "cell_type": "code",
   "execution_count": null,
   "metadata": {
    "_cell_guid": "27b28e44-dea7-45dc-b91b-901c947863a2",
    "_uuid": "120f3d7e475b980af2d426071683aab58696f392",
    "collapsed": true
   },
   "outputs": [],
   "source": [
    "train.head()"
   ]
  },
  {
   "cell_type": "code",
   "execution_count": null,
   "metadata": {
    "_cell_guid": "68a4e1a6-93bc-42cd-a2d9-f0261398684e",
    "_uuid": "eab30d8458d0b249fa00e8ff1fcd454540448ba7",
    "collapsed": true
   },
   "outputs": [],
   "source": [
    "for dataset in datasets:\n",
    "    dataset.drop([\"Ticket\"], axis = 1, inplace = True)\n",
    "train.head()"
   ]
  },
  {
   "cell_type": "code",
   "execution_count": null,
   "metadata": {
    "_cell_guid": "eb4feef6-017f-4d77-8838-d7087d4c854c",
    "_uuid": "f50971a2cac87568101b4d4cbb78fa4606716208",
    "collapsed": true
   },
   "outputs": [],
   "source": [
    "for dataset in datasets:\n",
    "    dataset[\"Sex\"] = dataset[\"Sex\"].map({\"male\":0, \"female\":1})\n",
    "train.head()"
   ]
  },
  {
   "cell_type": "code",
   "execution_count": null,
   "metadata": {
    "_cell_guid": "e2f5b5d7-6cc6-4425-90cc-054e0bb9406d",
    "_uuid": "1a198f34d1ecf8c1c0c81cca53fee2476f4959c8",
    "collapsed": true
   },
   "outputs": [],
   "source": [
    "for dataset in datasets:\n",
    "    dataset[\"Title\"] = dataset[\"Name\"].str.extract(' ([A-Za-z]+)\\.', expand=False)\n",
    "train.head()"
   ]
  },
  {
   "cell_type": "code",
   "execution_count": null,
   "metadata": {
    "_cell_guid": "53395990-ff4d-4abb-9bbc-81fb0bf54ba3",
    "_uuid": "0471ef6f33ed9dc1349b6fdd2e0cb685bfd27eed",
    "collapsed": true
   },
   "outputs": [],
   "source": [
    "pd.crosstab(train[\"Title\"], train[\"Sex\"], margins = True).sort_values(by = \"All\", ascending = False)"
   ]
  },
  {
   "cell_type": "code",
   "execution_count": null,
   "metadata": {
    "_cell_guid": "90304b6f-379f-4d49-8da5-b2750e0f0897",
    "_uuid": "f4db258df76fb7cda1dd6cf9fcf258ec323dad95",
    "collapsed": true
   },
   "outputs": [],
   "source": [
    "for dataset in datasets:\n",
    "    dataset[\"Title\"] = dataset[\"Title\"].replace([\"Dr\", \"Rev\", \"Major\", \"Col\", \"Mlle\", \"Don\", \"Jonkheer\", \"Lady\", \"Mme\", \"Countess\", \"Ms\", \"Sir\", \"Capt\"], \"Other\")\n",
    "    dataset[\"Title\"] = dataset[\"Title\"].map({\"Mr\":0, \"Miss\":1, \"Mrs\":2 , \"Master\": 3, \"Other\" :4})"
   ]
  },
  {
   "cell_type": "code",
   "execution_count": null,
   "metadata": {
    "_cell_guid": "6ec5b327-ee08-4646-849e-9a0cdabe55e2",
    "_uuid": "ac6c4c2ed464a3452c459645d0d5d8096328119a",
    "collapsed": true
   },
   "outputs": [],
   "source": [
    "for dataset in datasets:\n",
    "    dataset[\"Title\"].fillna(0, inplace=True)"
   ]
  },
  {
   "cell_type": "code",
   "execution_count": null,
   "metadata": {
    "_cell_guid": "20b82f6f-3195-4ec2-a075-ed8f5b025e59",
    "_uuid": "16aceb67e78afb686f55ea9dc8e6aa465dca1bed",
    "collapsed": true
   },
   "outputs": [],
   "source": [
    "for dataset in datasets:\n",
    "     dataset.drop([\"Name\"], axis = 1, inplace=True)"
   ]
  },
  {
   "cell_type": "code",
   "execution_count": null,
   "metadata": {
    "_cell_guid": "354f27c0-3f66-4d04-a91e-f64925096ca8",
    "_uuid": "b73f65e3d3b2fea218b0cf1d7ff37735a86c7440",
    "collapsed": true
   },
   "outputs": [],
   "source": [
    "dataset.head()"
   ]
  },
  {
   "cell_type": "code",
   "execution_count": null,
   "metadata": {
    "_cell_guid": "cb2bb991-2d6f-4470-9393-db8e1e9f6393",
    "_uuid": "048685eec7c8dcceb75fc0c96d995b4083fa769e",
    "collapsed": true
   },
   "outputs": [],
   "source": [
    "for dataset in datasets:\n",
    "    dataset[\"Age\"].fillna(dataset[\"Age\"].mean(), inplace = True)\n",
    "    "
   ]
  },
  {
   "cell_type": "code",
   "execution_count": null,
   "metadata": {
    "_cell_guid": "cf2e07e6-f54f-4650-b158-66289172cb53",
    "_uuid": "7be000dc7cdcfb736c7148b918a0c3b5a447f60a",
    "collapsed": true
   },
   "outputs": [],
   "source": [
    "for dataset in datasets:\n",
    "    dataset[\"Fare\"].fillna(dataset[\"Fare\"].mean(), inplace = True)"
   ]
  },
  {
   "cell_type": "code",
   "execution_count": null,
   "metadata": {
    "_cell_guid": "3417f66d-32b7-4f9f-8d54-dc5081571e69",
    "_uuid": "db46c902dfd93cbc9923e3add4b52685a77a9639",
    "collapsed": true
   },
   "outputs": [],
   "source": [
    "train.head()"
   ]
  },
  {
   "cell_type": "code",
   "execution_count": null,
   "metadata": {
    "_cell_guid": "6fcd3926-785b-4be0-a0bf-802c0e29ee70",
    "_uuid": "e88f2005cb84ae243b74656674f5ea7b05d15967",
    "collapsed": true
   },
   "outputs": [],
   "source": [
    "from sklearn.model_selection import train_test_split\n",
    "X_train, X_test, Y_train, Y_test = train_test_split(train.drop([\"Survived\"], axis = 1), train[\"Survived\"])"
   ]
  },
  {
   "cell_type": "code",
   "execution_count": null,
   "metadata": {
    "_cell_guid": "2f35f323-c943-472a-a30b-e84095f07f9a",
    "_uuid": "71bd72a07a63d4796e0f2b563c9cbee7036984fb",
    "collapsed": true
   },
   "outputs": [],
   "source": [
    "X_train.head()"
   ]
  },
  {
   "cell_type": "code",
   "execution_count": null,
   "metadata": {
    "_cell_guid": "71dc8946-e92c-4960-a139-871d2d9a3ab0",
    "_uuid": "a0950cc13aa91486ffaec22df41133b195d632df",
    "collapsed": true
   },
   "outputs": [],
   "source": [
    "from sklearn.ensemble import RandomForestClassifier\n",
    "\n",
    "classifier = RandomForestClassifier(n_estimators=100,\n",
    "                                criterion='gini',\n",
    "                                max_depth=5,\n",
    "                                min_samples_split=10,\n",
    "                                min_samples_leaf=5,\n",
    "                                random_state=0)\n",
    "classifier.fit(X_train, Y_train)\n",
    "\n",
    "print(\"Random Forest score: {0:.2}\".format(classifier.score(X_test, Y_test)))"
   ]
  },
  {
   "cell_type": "code",
   "execution_count": null,
   "metadata": {
    "_cell_guid": "5fc55936-102d-4698-98bc-1463b85dbfa7",
    "_uuid": "c656c173bf135e843df3ddc25cdecddc312c6707",
    "collapsed": true
   },
   "outputs": [],
   "source": [
    "prediction = classifier.predict(test)\n",
    "\n",
    "submission = pd.DataFrame({\"PassengerId\": test[\"PassengerId\"], \"Survived\": prediction})\n",
    "submission.to_csv(\"submission.csv\", index=False)"
   ]
  },
  {
   "cell_type": "code",
   "execution_count": null,
   "metadata": {
    "_cell_guid": "d9d0d4fe-2a54-4964-b08a-e283a5f84f99",
    "_uuid": "6e06f9bb82861dc088f550ef171bef15bdb2c290",
    "collapsed": true
   },
   "outputs": [],
   "source": []
  }
 ],
 "metadata": {
  "kernelspec": {
   "display_name": "Python 2",
   "language": "python",
   "name": "python2"
  },
  "language_info": {
   "codemirror_mode": {
    "name": "ipython",
    "version": 2
   },
   "file_extension": ".py",
   "mimetype": "text/x-python",
   "name": "python",
   "nbconvert_exporter": "python",
   "pygments_lexer": "ipython2",
   "version": "2.7.5"
  }
 },
 "nbformat": 4,
 "nbformat_minor": 1
}
